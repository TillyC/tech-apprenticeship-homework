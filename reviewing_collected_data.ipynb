{
 "cells": [
  {
   "cell_type": "code",
   "execution_count": 1,
   "id": "62872c6b",
   "metadata": {},
   "outputs": [],
   "source": [
    "# import our libraries\n",
    "import pandas as pd\n",
    "%matplotlib inline"
   ]
  },
  {
   "cell_type": "code",
   "execution_count": 2,
   "id": "63b54646",
   "metadata": {},
   "outputs": [],
   "source": [
    "import matplotlib.pyplot as plt"
   ]
  },
  {
   "cell_type": "code",
   "execution_count": 3,
   "id": "3f974722",
   "metadata": {},
   "outputs": [],
   "source": [
    "# tell python where the file is\n",
    "path = 'tech apprentice questionnaire .csv'"
   ]
  },
  {
   "cell_type": "code",
   "execution_count": 4,
   "id": "486d3cd2",
   "metadata": {},
   "outputs": [],
   "source": [
    "#read the csv, convert to a DataFrame with variable name apprenticeAnswers\n",
    "apprenticeAnswers = pd.read_csv(path)"
   ]
  },
  {
   "cell_type": "code",
   "execution_count": 5,
   "id": "cb184398",
   "metadata": {},
   "outputs": [
    {
     "data": {
      "text/html": [
       "<div>\n",
       "<style scoped>\n",
       "    .dataframe tbody tr th:only-of-type {\n",
       "        vertical-align: middle;\n",
       "    }\n",
       "\n",
       "    .dataframe tbody tr th {\n",
       "        vertical-align: top;\n",
       "    }\n",
       "\n",
       "    .dataframe thead th {\n",
       "        text-align: right;\n",
       "    }\n",
       "</style>\n",
       "<table border=\"1\" class=\"dataframe\">\n",
       "  <thead>\n",
       "    <tr style=\"text-align: right;\">\n",
       "      <th></th>\n",
       "      <th>Timestamp</th>\n",
       "      <th>Name</th>\n",
       "      <th>FavClass</th>\n",
       "      <th>Hobbies</th>\n",
       "      <th>MusicTaste</th>\n",
       "      <th>Software</th>\n",
       "      <th>Beverage</th>\n",
       "      <th>FavWord</th>\n",
       "      <th>Activity</th>\n",
       "    </tr>\n",
       "  </thead>\n",
       "  <tbody>\n",
       "    <tr>\n",
       "      <th>0</th>\n",
       "      <td>2022/11/16 10:28:23 AM GMT</td>\n",
       "      <td>Rocio</td>\n",
       "      <td>future machines</td>\n",
       "      <td>Dancing</td>\n",
       "      <td>Pop</td>\n",
       "      <td>Apple</td>\n",
       "      <td>Coffee</td>\n",
       "      <td>Aching</td>\n",
       "      <td>Southbank day out</td>\n",
       "    </tr>\n",
       "    <tr>\n",
       "      <th>1</th>\n",
       "      <td>2022/11/16 11:01:53 AM GMT</td>\n",
       "      <td>Jiaze Li</td>\n",
       "      <td>intro to game engines</td>\n",
       "      <td>smoking</td>\n",
       "      <td>Hiphop</td>\n",
       "      <td>Windows</td>\n",
       "      <td>neither</td>\n",
       "      <td>invincible</td>\n",
       "      <td>swim in the Thames</td>\n",
       "    </tr>\n",
       "    <tr>\n",
       "      <th>2</th>\n",
       "      <td>2022/11/16 11:08:58 AM GMT</td>\n",
       "      <td>Jasmine Rose Federer</td>\n",
       "      <td>all of the above</td>\n",
       "      <td>Tennis</td>\n",
       "      <td>IDM</td>\n",
       "      <td>Apple</td>\n",
       "      <td>Coffee</td>\n",
       "      <td>Yolk</td>\n",
       "      <td>Visit the parks</td>\n",
       "    </tr>\n",
       "    <tr>\n",
       "      <th>3</th>\n",
       "      <td>2022/11/16 12:14:09 PM GMT</td>\n",
       "      <td>Ning Wei</td>\n",
       "      <td>intro to game engines</td>\n",
       "      <td>Drawing with listening music</td>\n",
       "      <td>Pop music/ Rock /Jazz</td>\n",
       "      <td>Both</td>\n",
       "      <td>can't decide (like rocio's mug)</td>\n",
       "      <td>Metaverse</td>\n",
       "      <td>Dress up and going to a restaurant/theatre for...</td>\n",
       "    </tr>\n",
       "    <tr>\n",
       "      <th>4</th>\n",
       "      <td>2022/11/16 12:32:41 PM GMT</td>\n",
       "      <td>Kat</td>\n",
       "      <td>all of the above</td>\n",
       "      <td>Dance</td>\n",
       "      <td>Indie</td>\n",
       "      <td>Windows</td>\n",
       "      <td>tea</td>\n",
       "      <td>kumquat</td>\n",
       "      <td>Sunday Roast</td>\n",
       "    </tr>\n",
       "    <tr>\n",
       "      <th>5</th>\n",
       "      <td>2022/11/16 1:04:18 PM GMT</td>\n",
       "      <td>Shi Shi</td>\n",
       "      <td>all of the above</td>\n",
       "      <td>Outdoor sports</td>\n",
       "      <td>Jazz hiphop</td>\n",
       "      <td>Both</td>\n",
       "      <td>can't decide (like rocio's mug)</td>\n",
       "      <td>Story</td>\n",
       "      <td>Fall in Love</td>\n",
       "    </tr>\n",
       "    <tr>\n",
       "      <th>6</th>\n",
       "      <td>2022/11/16 1:32:18 PM GMT</td>\n",
       "      <td>Jana</td>\n",
       "      <td>intro to creative coding</td>\n",
       "      <td>Volleyball</td>\n",
       "      <td>Rock</td>\n",
       "      <td>Windows</td>\n",
       "      <td>Coffee</td>\n",
       "      <td>food</td>\n",
       "      <td>eating out</td>\n",
       "    </tr>\n",
       "    <tr>\n",
       "      <th>7</th>\n",
       "      <td>2022/11/16 2:00:15 PM GMT</td>\n",
       "      <td>Zishan liu</td>\n",
       "      <td>intro to game engines</td>\n",
       "      <td>makeup</td>\n",
       "      <td>Film and television related music</td>\n",
       "      <td>Apple</td>\n",
       "      <td>can't decide (like rocio's mug)</td>\n",
       "      <td>wtf</td>\n",
       "      <td>forage London</td>\n",
       "    </tr>\n",
       "    <tr>\n",
       "      <th>8</th>\n",
       "      <td>2022/11/16 2:10:31 PM GMT</td>\n",
       "      <td>Dara</td>\n",
       "      <td>intro to creative coding</td>\n",
       "      <td>Cooking</td>\n",
       "      <td>Afrobeats and Soul</td>\n",
       "      <td>Both</td>\n",
       "      <td>tea</td>\n",
       "      <td>bliss</td>\n",
       "      <td>Siteseeing</td>\n",
       "    </tr>\n",
       "    <tr>\n",
       "      <th>9</th>\n",
       "      <td>2022/11/16 2:12:46 PM GMT</td>\n",
       "      <td>Wen</td>\n",
       "      <td>intro to creative coding</td>\n",
       "      <td>Photography</td>\n",
       "      <td>Indie</td>\n",
       "      <td>Apple</td>\n",
       "      <td>Coffee</td>\n",
       "      <td>Annoying</td>\n",
       "      <td>Bar drinking</td>\n",
       "    </tr>\n",
       "    <tr>\n",
       "      <th>10</th>\n",
       "      <td>2022/11/16 2:30:25 PM GMT</td>\n",
       "      <td>Precious</td>\n",
       "      <td>future machines</td>\n",
       "      <td>Video Editing</td>\n",
       "      <td>Afrobeats</td>\n",
       "      <td>Both</td>\n",
       "      <td>tea</td>\n",
       "      <td>Precious</td>\n",
       "      <td>Climb the o2</td>\n",
       "    </tr>\n",
       "    <tr>\n",
       "      <th>11</th>\n",
       "      <td>2022/11/16 2:30:31 PM GMT</td>\n",
       "      <td>Jade</td>\n",
       "      <td>future machines</td>\n",
       "      <td>Sailing</td>\n",
       "      <td>Electronic</td>\n",
       "      <td>Apple</td>\n",
       "      <td>Coffee</td>\n",
       "      <td>Obfuscation</td>\n",
       "      <td>Comedy Night</td>\n",
       "    </tr>\n",
       "    <tr>\n",
       "      <th>12</th>\n",
       "      <td>2022/11/16 8:20:17 PM GMT</td>\n",
       "      <td>Adele</td>\n",
       "      <td>intro to game engines</td>\n",
       "      <td>Travel, jogging and watching sci-fi movies</td>\n",
       "      <td>Afro beats, r&amp;b, jazz and pop</td>\n",
       "      <td>Windows</td>\n",
       "      <td>can't decide (like rocio's mug)</td>\n",
       "      <td>Let’s do it..(phrase)</td>\n",
       "      <td>Going to different museums.</td>\n",
       "    </tr>\n",
       "    <tr>\n",
       "      <th>13</th>\n",
       "      <td>2022/11/17 1:47:59 PM GMT</td>\n",
       "      <td>Beth</td>\n",
       "      <td>intro to game engines</td>\n",
       "      <td>Raving</td>\n",
       "      <td>metal</td>\n",
       "      <td>Apple</td>\n",
       "      <td>Coffee</td>\n",
       "      <td>Melancholy</td>\n",
       "      <td>Park panics</td>\n",
       "    </tr>\n",
       "  </tbody>\n",
       "</table>\n",
       "</div>"
      ],
      "text/plain": [
       "                     Timestamp                  Name  \\\n",
       "0   2022/11/16 10:28:23 AM GMT                 Rocio   \n",
       "1   2022/11/16 11:01:53 AM GMT              Jiaze Li   \n",
       "2   2022/11/16 11:08:58 AM GMT  Jasmine Rose Federer   \n",
       "3   2022/11/16 12:14:09 PM GMT              Ning Wei   \n",
       "4   2022/11/16 12:32:41 PM GMT                   Kat   \n",
       "5    2022/11/16 1:04:18 PM GMT               Shi Shi   \n",
       "6    2022/11/16 1:32:18 PM GMT                  Jana   \n",
       "7    2022/11/16 2:00:15 PM GMT            Zishan liu   \n",
       "8    2022/11/16 2:10:31 PM GMT                  Dara   \n",
       "9    2022/11/16 2:12:46 PM GMT                   Wen   \n",
       "10   2022/11/16 2:30:25 PM GMT              Precious   \n",
       "11   2022/11/16 2:30:31 PM GMT                  Jade   \n",
       "12   2022/11/16 8:20:17 PM GMT                 Adele   \n",
       "13   2022/11/17 1:47:59 PM GMT                  Beth   \n",
       "\n",
       "                    FavClass                                     Hobbies  \\\n",
       "0            future machines                                     Dancing   \n",
       "1      intro to game engines                                     smoking   \n",
       "2           all of the above                                      Tennis   \n",
       "3      intro to game engines                Drawing with listening music   \n",
       "4           all of the above                                       Dance   \n",
       "5           all of the above                              Outdoor sports   \n",
       "6   intro to creative coding                                  Volleyball   \n",
       "7      intro to game engines                                      makeup   \n",
       "8   intro to creative coding                                     Cooking   \n",
       "9   intro to creative coding                                 Photography   \n",
       "10           future machines                               Video Editing   \n",
       "11           future machines                                     Sailing   \n",
       "12     intro to game engines  Travel, jogging and watching sci-fi movies   \n",
       "13     intro to game engines                                      Raving   \n",
       "\n",
       "                           MusicTaste Software  \\\n",
       "0                                 Pop    Apple   \n",
       "1                              Hiphop  Windows   \n",
       "2                                 IDM    Apple   \n",
       "3               Pop music/ Rock /Jazz     Both   \n",
       "4                               Indie  Windows   \n",
       "5                         Jazz hiphop     Both   \n",
       "6                                Rock  Windows   \n",
       "7   Film and television related music    Apple   \n",
       "8                  Afrobeats and Soul     Both   \n",
       "9                               Indie    Apple   \n",
       "10                          Afrobeats     Both   \n",
       "11                         Electronic    Apple   \n",
       "12      Afro beats, r&b, jazz and pop  Windows   \n",
       "13                              metal    Apple   \n",
       "\n",
       "                           Beverage                FavWord  \\\n",
       "0                            Coffee                 Aching   \n",
       "1                           neither             invincible   \n",
       "2                            Coffee                   Yolk   \n",
       "3   can't decide (like rocio's mug)              Metaverse   \n",
       "4                               tea                kumquat   \n",
       "5   can't decide (like rocio's mug)                  Story   \n",
       "6                            Coffee                   food   \n",
       "7   can't decide (like rocio's mug)                    wtf   \n",
       "8                               tea                  bliss   \n",
       "9                            Coffee              Annoying    \n",
       "10                              tea               Precious   \n",
       "11                           Coffee            Obfuscation   \n",
       "12  can't decide (like rocio's mug)  Let’s do it..(phrase)   \n",
       "13                           Coffee            Melancholy    \n",
       "\n",
       "                                             Activity  \n",
       "0                                   Southbank day out  \n",
       "1                                  swim in the Thames  \n",
       "2                                     Visit the parks  \n",
       "3   Dress up and going to a restaurant/theatre for...  \n",
       "4                                        Sunday Roast  \n",
       "5                                        Fall in Love  \n",
       "6                                          eating out  \n",
       "7                                       forage London  \n",
       "8                                          Siteseeing  \n",
       "9                                        Bar drinking  \n",
       "10                                       Climb the o2  \n",
       "11                                       Comedy Night  \n",
       "12                        Going to different museums.  \n",
       "13                                        Park panics  "
      ]
     },
     "execution_count": 5,
     "metadata": {},
     "output_type": "execute_result"
    }
   ],
   "source": [
    "apprenticeAnswers"
   ]
  },
  {
   "cell_type": "code",
   "execution_count": 6,
   "id": "24a43c6a",
   "metadata": {},
   "outputs": [
    {
     "data": {
      "text/plain": [
       "0                    Rocio\n",
       "1                 Jiaze Li\n",
       "2     Jasmine Rose Federer\n",
       "3                 Ning Wei\n",
       "4                      Kat\n",
       "5                  Shi Shi\n",
       "6                     Jana\n",
       "7               Zishan liu\n",
       "8                     Dara\n",
       "9                      Wen\n",
       "10                Precious\n",
       "11                    Jade\n",
       "12                   Adele\n",
       "13                    Beth\n",
       "Name: Name, dtype: object"
      ]
     },
     "execution_count": 6,
     "metadata": {},
     "output_type": "execute_result"
    }
   ],
   "source": [
    "#print the Name column only, this is called a Series.\n",
    "apprenticeAnswers.Name"
   ]
  },
  {
   "cell_type": "code",
   "execution_count": 7,
   "id": "af08eb7f",
   "metadata": {},
   "outputs": [],
   "source": [
    "#I have quickly realised it would've been beneficial to ask questions with measurable numeric values. \n",
    "#I can instead measure the amount of people that chose certain options."
   ]
  },
  {
   "cell_type": "code",
   "execution_count": 8,
   "id": "05628491",
   "metadata": {},
   "outputs": [
    {
     "name": "stdout",
     "output_type": "stream",
     "text": [
      "0                    Rocio\n",
      "2     Jasmine Rose Federer\n",
      "7               Zishan liu\n",
      "9                      Wen\n",
      "11                    Jade\n",
      "13                    Beth\n",
      "Name: Name, dtype: object\n"
     ]
    }
   ],
   "source": [
    "#creating a variable called apple_apprentice \n",
    "# using .loc to locate with two parameters in the [] square brackets\n",
    "# first parameter: search query\n",
    "# second parameter: property or column name that we want\n",
    "apple_apprentice = apprenticeAnswers.loc[apprenticeAnswers.Software == 'Apple', 'Name']\n",
    "print(apple_apprentice)\n",
    "#I found that these are the apprentices that I have an apple preference in common with. "
   ]
  },
  {
   "cell_type": "code",
   "execution_count": 23,
   "id": "cde2c906",
   "metadata": {},
   "outputs": [
    {
     "data": {
      "text/plain": [
       "Text(0.5, 1.0, 'Apple vs Windows')"
      ]
     },
     "execution_count": 23,
     "metadata": {},
     "output_type": "execute_result"
    },
    {
     "data": {
      "image/png": "[encoded data removed]",
      "text/plain": [
       "<Figure size 640x480 with 1 Axes>"
      ]
     },
     "metadata": {},
     "output_type": "display_data"
    }
   ],
   "source": [
    "# look at distribution of software choices of apprentices\n",
    "# bins = look at the distribution value\n",
    "# fig size = figure size, ie the size of the chart\n",
    "plt.hist(apprenticeAnswers.Software, bins=5)\n",
    "plt.xlabel('Software Choice')\n",
    "plt.ylabel('Number of apprentices')\n",
    "plt.title('Apple vs Windows')\n",
    "#overall more people like apple compared to windows.\n",
    "#I think in hindsight I should've made people choose one or the other to get a better reading"
   ]
  },
  {
   "cell_type": "code",
   "execution_count": 9,
   "id": "fb2eb671",
   "metadata": {},
   "outputs": [
    {
     "data": {
      "text/plain": [
       "Text(0.5, 1.0, 'Which drink do you prefer?')"
      ]
     },
     "execution_count": 9,
     "metadata": {},
     "output_type": "execute_result"
    },
    {
     "data": {
      "image/png": "[encoded data removed]",
      "text/plain": [
       "<Figure size 640x480 with 1 Axes>"
      ]
     },
     "metadata": {},
     "output_type": "display_data"
    }
   ],
   "source": [
    "#The same process but with tea or coffee choices\n",
    "plt.hist(apprenticeAnswers.Beverage, bins=10)\n",
    "plt.xlabel('Tea or Coffee')\n",
    "plt.ylabel('Number of apprentices')\n",
    "plt.title('Which drink do you prefer?')\n",
    "#It turns out more people on this apprenticeship like coffee.\n",
    "#I think I could tell already based on the reactions to the coffee machine breaking."
   ]
  },
  {
   "cell_type": "code",
   "execution_count": 10,
   "id": "5998b785",
   "metadata": {},
   "outputs": [],
   "source": [
    "#add the random library to pull out random words from a list\n",
    "import random"
   ]
  },
  {
   "cell_type": "code",
   "execution_count": 24,
   "id": "5987cb1e",
   "metadata": {},
   "outputs": [
    {
     "data": {
      "text/plain": [
       "0                    Aching\n",
       "1                 Annoying \n",
       "2               Melancholy \n",
       "3                     Story\n",
       "4     Let’s do it..(phrase)\n",
       "5                invincible\n",
       "6                       wtf\n",
       "7                   kumquat\n",
       "8                 Metaverse\n",
       "9                      food\n",
       "10                     Yolk\n",
       "11                 Precious\n",
       "12                    bliss\n",
       "13              Obfuscation\n",
       "Name: FavWord, dtype: object"
      ]
     },
     "execution_count": 24,
     "metadata": {},
     "output_type": "execute_result"
    }
   ],
   "source": [
    "#get the series for favword column\n",
    "apprenticeAnswers.FavWord "
   ]
  },
  {
   "cell_type": "code",
   "execution_count": 40,
   "id": "c284f8fd",
   "metadata": {},
   "outputs": [
    {
     "name": "stdout",
     "output_type": "stream",
     "text": [
      "The Metaverse Story\n"
     ]
    }
   ],
   "source": [
    "#extract two random words from the series FavWord\n",
    "#random story title generation The ... ... , ie. invinclible kumquat\n",
    "#random_words = apprenticeAnswers[[ x for x in apprenticeAnswers.FavWord == random.shuffle]]\n",
    "random.shuffle(apprenticeAnswers.FavWord)\n",
    "#print(apprenticeAnswers.FavWord[0:2])\n",
    "print(\"The\" + \" \" + apprenticeAnswers.FavWord[0] + \" \" + apprenticeAnswers.FavWord[1])\n",
    "#I learnt that people have some very fun favourite words that produced titles such as \"The Metaverse Story\" or \"The Bliss Yolk\".\n",
    "#I also wonder if this is the most elegant way to code this?"
   ]
  },
  {
   "cell_type": "code",
   "execution_count": 34,
   "id": "c17ace13",
   "metadata": {},
   "outputs": [],
   "source": [
    "#below was a test that didn't work \n",
    "#fave_words= apprenticeAnswers.FavWord\n",
    "#print(random.choice(fave_words))"
   ]
  },
  {
   "cell_type": "code",
   "execution_count": 44,
   "id": "5c7ea213",
   "metadata": {},
   "outputs": [
    {
     "name": "stdout",
     "output_type": "stream",
     "text": [
      "Day out in London\n",
      "|1st Activity: Bar drinking |2nd Activity: Visit the parks |3rd Activity: forage London\n"
     ]
    }
   ],
   "source": [
    "#you could also use the same method to create a fun day out in London from People's answers\n",
    "random.shuffle(apprenticeAnswers.Activity)\n",
    "print(\"Day out in London\")\n",
    "print(\"|1st Activity:\" + \" \" + apprenticeAnswers.Activity[0] + \" \" + \"|2nd Activity:\" + \" \" + apprenticeAnswers.Activity[1] + \" \" + \"|3rd Activity:\" + \" \" + apprenticeAnswers.Activity[2])"
   ]
  },
  {
   "cell_type": "code",
   "execution_count": 53,
   "id": "1472de02",
   "metadata": {},
   "outputs": [
    {
     "data": {
      "text/plain": [
       "4    Kat\n",
       "Name: Name, dtype: object"
      ]
     },
     "execution_count": 53,
     "metadata": {},
     "output_type": "execute_result"
    }
   ],
   "source": [
    "#I was hoping to pair people based on hobbies \n",
    "# so that they could go and do them together \n",
    "#but no ones answers were written exactly the same\n",
    "dancers = apprenticeAnswers[[ x for x in apprenticeAnswers.Hobbies == 'Dance']]\n",
    "dancers.Name\n",
    "#Here I can see that Kat dances as a hobby\n",
    "#so does Rocio but she wrote \"Dancing instead of dance\" so wont appear here\n",
    "#next time I would give a selection of choices"
   ]
  },
  {
   "cell_type": "code",
   "execution_count": null,
   "id": "8ea787f8",
   "metadata": {},
   "outputs": [],
   "source": []
  },
  {
   "cell_type": "code",
   "execution_count": null,
   "id": "9919d9a2",
   "metadata": {},
   "outputs": [],
   "source": []
  }
 ],
 "metadata": {
  "kernelspec": {
   "display_name": "Python 3 (ipykernel)",
   "language": "python",
   "name": "python3"
  },
  "language_info": {
   "codemirror_mode": {
    "name": "ipython",
    "version": 3
   },
   "file_extension": ".py",
   "mimetype": "text/x-python",
   "name": "python",
   "nbconvert_exporter": "python",
   "pygments_lexer": "ipython3",
   "version": "3.11.0"
  }
 },
 "nbformat": 4,
 "nbformat_minor": 5
}
